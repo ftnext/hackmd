{
  "nbformat": 4,
  "nbformat_minor": 0,
  "metadata": {
    "colab": {
      "name": "stapy_64_entry_summary.ipynb",
      "private_outputs": true,
      "provenance": [],
      "authorship_tag": "ABX9TyNvE4BM/AlyTry4yKprixTQ",
      "include_colab_link": true
    },
    "kernelspec": {
      "name": "python3",
      "display_name": "Python 3"
    }
  },
  "cells": [
    {
      "cell_type": "markdown",
      "metadata": {
        "id": "view-in-github",
        "colab_type": "text"
      },
      "source": [
        "<a href=\"https://colab.research.google.com/github/infostapy/hackmd/blob/main/stapy_64_entry_summary.ipynb\" target=\"_parent\"><img src=\"https://colab.research.google.com/assets/colab-badge.svg\" alt=\"Open In Colab\"/></a>"
      ]
    },
    {
      "cell_type": "code",
      "metadata": {
        "id": "jJY6Y_vQj6If"
      },
      "source": [
        "from google.colab import auth\n",
        "from oauth2client.client import GoogleCredentials\n",
        "import gspread\n",
        "\n",
        "# 認証処理\n",
        "gauth = auth.authenticate_user()\n",
        "gc = gspread.authorize(GoogleCredentials.get_application_default())"
      ],
      "execution_count": null,
      "outputs": []
    },
    {
      "cell_type": "code",
      "metadata": {
        "id": "5UpuYyQylp2y"
      },
      "source": [
        "import pandas as pd\n",
        "\n",
        "work_sheet = gc.open_by_url('https://docs.google.com/spreadsheets/d/1lDbCtKcy3fq5vmKuL0duBMZuJ7D-mq0cUTNxHvUnWBA/edit#gid=2116493567')\n",
        "sheet = work_sheet.sheet1\n",
        "df = pd.DataFrame(sheet.get_all_records()) "
      ],
      "execution_count": null,
      "outputs": []
    },
    {
      "cell_type": "code",
      "metadata": {
        "id": "Ba2-YX2fkcFv"
      },
      "source": [
        "# フィルター（スタッフは除く、キャンセル者を除外する\n",
        "df = df.query('参加ステータス == \"参加\"').query('参加枠名 != \"スタッフ・講師（関係者限定）\"')"
      ],
      "execution_count": null,
      "outputs": []
    },
    {
      "cell_type": "code",
      "metadata": {
        "id": "zYlsIgAmmeMb"
      },
      "source": [
        "#参加者\n",
        "df['参加枠名'].count()"
      ],
      "execution_count": null,
      "outputs": []
    },
    {
      "cell_type": "code",
      "metadata": {
        "id": "fbkkxePim59r"
      },
      "source": [
        "#参加回数\n",
        "df.groupby('みんなのPython勉強会への参加は初めてですか？')['参加枠名'].count()"
      ],
      "execution_count": null,
      "outputs": []
    },
    {
      "cell_type": "code",
      "metadata": {
        "id": "2fqC2GKbnT0V"
      },
      "source": [
        "#参加者地域\n",
        "df.groupby('どこから参加しますか（予定）？')['参加枠名'].count()"
      ],
      "execution_count": null,
      "outputs": []
    },
    {
      "cell_type": "code",
      "metadata": {
        "id": "N-8ShDwYnYvj"
      },
      "source": [
        "#参加者スキル\n",
        "df.groupby('Pythonのスキルを教えてください')['参加枠名'].count()"
      ],
      "execution_count": null,
      "outputs": []
    },
    {
      "cell_type": "code",
      "metadata": {
        "id": "fIaB7ihvoG-D"
      },
      "source": [
        "!pip install japanize-matplotlib"
      ],
      "execution_count": null,
      "outputs": []
    },
    {
      "cell_type": "code",
      "metadata": {
        "id": "1UJdidNGnZdS"
      },
      "source": [
        "import japanize_matplotlib\n",
        "import matplotlib.pyplot as plt\n",
        "import codecs\n",
        "\n",
        "ig, axes = plt.subplots(nrows=2, ncols=3, figsize=(30, 20))\n",
        "df.groupby('みんなのPython勉強会への参加は初めてですか？')['参加枠名'].count().plot.pie(ax=axes[0, 0], legend=False)\n",
        "df.groupby('どこから参加しますか（予定）？')['参加枠名'].count().plot.pie(ax=axes[0, 1], legend=False)\n",
        "df.groupby('Pythonのスキルを教えてください')['参加枠名'].count().plot.pie(ax=axes[0, 2], legend=False)"
      ],
      "execution_count": null,
      "outputs": []
    },
    {
      "cell_type": "code",
      "metadata": {
        "id": "JzUPP4ROn8vm"
      },
      "source": [
        "import matplotlib.pyplot as plt\n",
        "import seaborn as sns"
      ],
      "execution_count": null,
      "outputs": []
    },
    {
      "cell_type": "code",
      "metadata": {
        "id": "sJ6x8TeBsD7E"
      },
      "source": [
        "df['みんなのPython勉強会への参加は初めてですか？'].value_counts()"
      ],
      "execution_count": null,
      "outputs": []
    },
    {
      "cell_type": "code",
      "metadata": {
        "id": "Xvxn6g40tN2V"
      },
      "source": [
        "df['みんなのPython勉強会への参加は初めてですか？'].value_counts().index.tolist()"
      ],
      "execution_count": null,
      "outputs": []
    },
    {
      "cell_type": "code",
      "metadata": {
        "id": "snDMPvgnt_BZ"
      },
      "source": [
        "!apt-get -y install fonts-ipafont-gothic"
      ],
      "execution_count": null,
      "outputs": []
    },
    {
      "cell_type": "code",
      "metadata": {
        "id": "Mhx9fLY1uZTL"
      },
      "source": [
        "import matplotlib\n",
        "print(matplotlib.get_cachedir())"
      ],
      "execution_count": null,
      "outputs": []
    },
    {
      "cell_type": "code",
      "metadata": {
        "id": "pxMPKF2uun1Z"
      },
      "source": [
        "!rm /root/.cache/matplotlib/fontList.json"
      ],
      "execution_count": null,
      "outputs": []
    },
    {
      "cell_type": "code",
      "metadata": {
        "id": "JQxsGj8usTh-"
      },
      "source": [
        "sns.set(font='IPAGothic')\n",
        "\n",
        "import matplotlib.pyplot as plt\n",
        "\n",
        "jp_font = {'fontname':'IPAGothic'}\n",
        "\n",
        "plt.plot([0, 1], [0, 1])\n",
        "plt.xlabel('横軸', **jp_font)\n",
        "plt.ylabel('縦軸', **jp_font)\n",
        "plt.title('タイトル', **jp_font)\n",
        "plt.show()\n",
        "\n",
        "import matplotlib.pyplot as plt\n",
        "import seaborn as sns\n",
        "sns.set(font='IPAGothic')\n",
        "\n",
        "plt.plot([0, 1], [0, 1])\n",
        "plt.xlabel('横軸')\n",
        "plt.ylabel('縦軸')\n",
        "plt.title('タイトル')\n",
        "plt.show()\n",
        "\n",
        "plt.pie(df['みんなのPython勉強会への参加は初めてですか？'].value_counts(),labels=df['みんなのPython勉強会への参加は初めてですか？'].value_counts().index.tolist(),\n",
        "       counterclock=False, startangle=90,\n",
        "       autopct='%1.1f%%', pctdistance=0.7)\n",
        " \n",
        "plt.show()"
      ],
      "execution_count": null,
      "outputs": []
    },
    {
      "cell_type": "code",
      "metadata": {
        "id": "DmABcnDusayl"
      },
      "source": [
        ""
      ],
      "execution_count": null,
      "outputs": []
    }
  ]
}